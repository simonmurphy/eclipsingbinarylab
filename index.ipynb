{
 "cells": [
  {
   "cell_type": "markdown",
   "metadata": {},
   "source": [
    "# Part 2: Fundamental parameters of the eclipsing binary THOR 42\n",
    "\n",
    "Now that we have an understanding of how eclipsing binary system parameters affect the observed light curve, we will"
   ]
  },
  {
   "cell_type": "code",
   "execution_count": 10,
   "metadata": {},
   "outputs": [],
   "source": [
    "# Import various libraries\n",
    "%matplotlib widget\n",
    "from astropy.table import Table\n",
    "from astropy.timeseries import BoxLeastSquares\n",
    "import astropy.units as u\n",
    "import numpy as np\n",
    "import matplotlib.pyplot as plt\n",
    "from interactive_figures import RVCurve, LightCurve, MassRadiusDiagram"
   ]
  },
  {
   "cell_type": "code",
   "execution_count": 11,
   "metadata": {},
   "outputs": [],
   "source": [
    "# Load the TESS photometry\n",
    "tess = Table.read('TESS.txt', format='ascii')\n",
    "# Only keep epochs with no issues (FLAG = 0)\n",
    "good = tess['FLAG'] == 0\n",
    "t = tess['BJD'][good]\n",
    "flux = tess['FLUX'][good]"
   ]
  },
  {
   "cell_type": "code",
   "execution_count": 12,
   "metadata": {},
   "outputs": [
    {
     "data": {
      "application/vnd.jupyter.widget-view+json": {
       "model_id": "f1f9085c42a14f168b2bd349914989f6",
       "version_major": 2,
       "version_minor": 0
      },
      "text/plain": [
       "Canvas(toolbar=Toolbar(toolitems=[('Home', 'Reset original view', 'home', 'home'), ('Back', 'Back to previous …"
      ]
     },
     "metadata": {},
     "output_type": "display_data"
    }
   ],
   "source": [
    "# Plot the TESS time series\n",
    "fig, ax = plt.subplots(constrained_layout=True, figsize=(6, 4))\n",
    "plt.plot(t, flux, 'o', ms=2, color='black', label='Retained')\n",
    "# Plot the rejected epochs in red\n",
    "plt.plot(tess['BJD'][~good], tess['FLUX'][~good], 'o', ms=2, color='tab:red', label='Rejected')\n",
    "plt.xlabel('BJD $-$ 2450000')\n",
    "plt.ylabel('Flux (normalised)')\n",
    "plt.title('$TESS$ light curve')\n",
    "plt.legend()\n",
    "plt.show()"
   ]
  },
  {
   "cell_type": "code",
   "execution_count": 4,
   "metadata": {},
   "outputs": [
    {
     "data": {
      "application/vnd.jupyter.widget-view+json": {
       "model_id": "d98092dc7b2245d8a35399e9df9d5004",
       "version_major": 2,
       "version_minor": 0
      },
      "text/plain": [
       "Canvas(toolbar=Toolbar(toolitems=[('Home', 'Reset original view', 'home', 'home'), ('Back', 'Back to previous …"
      ]
     },
     "metadata": {},
     "output_type": "display_data"
    }
   ],
   "source": [
    "# Search for a period \n",
    "model = BoxLeastSquares(t*u.day, flux*u.dimensionless_unscaled)\n",
    "periods = np.linspace(0.25,1,1000)\n",
    "results = model.power(periods, duration=0.1)\n",
    "fig, ax = plt.subplots(constrained_layout=True, figsize=(6, 4))\n",
    "plt.plot(periods, results.power)\n",
    "plt.xlabel('Period (d)')\n",
    "plt.ylabel('Power')\n",
    "plt.title('Box Least Squares Periodogram')\n",
    "plt.show()\n"
   ]
  },
  {
   "cell_type": "code",
   "execution_count": 15,
   "metadata": {},
   "outputs": [
    {
     "data": {
      "application/vnd.jupyter.widget-view+json": {
       "model_id": "2186027d567c4fd99de24026ade4543b",
       "version_major": 2,
       "version_minor": 0
      },
      "text/plain": [
       "LightCurve(children=(Output(), VBox(children=(FloatText(value=1.0, description='Period (d)', step=1e-05), Floa…"
      ]
     },
     "metadata": {},
     "output_type": "display_data"
    }
   ],
   "source": [
    "LightCurve(t, flux)"
   ]
  },
  {
   "cell_type": "code",
   "execution_count": 6,
   "metadata": {},
   "outputs": [],
   "source": [
    "# Load the RV data \n",
    "rv = Table.read('RV.txt', format='ascii')\n",
    "t1 = rv['BJD']\n",
    "rv1 = rv['RV1']\n",
    "e_rv1 = np.sqrt(rv['E_RV1']**2 + 3.5**2)\n",
    "# Use only those secondary epochs with good velocities (FLAG = 0)\n",
    "good = rv['FLAG'] == 0 \n",
    "t2 = rv['BJD'][good]\n",
    "rv2 = rv['RV2m1'][good] + rv['RV1'][good]\n",
    "e_rv2 = np.sqrt(rv['E_RV2m1'][good]**2 + rv['E_RV1'][good]**2 + 5**2)"
   ]
  },
  {
   "cell_type": "code",
   "execution_count": 7,
   "metadata": {},
   "outputs": [
    {
     "data": {
      "application/vnd.jupyter.widget-view+json": {
       "model_id": "6272c6933238429498e4c44e99c12f74",
       "version_major": 2,
       "version_minor": 0
      },
      "text/plain": [
       "Canvas(toolbar=Toolbar(toolitems=[('Home', 'Reset original view', 'home', 'home'), ('Back', 'Back to previous …"
      ]
     },
     "metadata": {},
     "output_type": "display_data"
    }
   ],
   "source": [
    "fig, ax = plt.subplots(constrained_layout=True, figsize=(6, 4))\n",
    "plt.plot(t1, rv1, 'o', ms=4, color='tab:red', label='Primary')\n",
    "plt.plot(t2, rv2, 'o', ms=4, color='tab:blue', label='Secondary')\n",
    "plt.xlabel('BJD $-$ 2450000')\n",
    "plt.ylabel('Radial velocity (km s$^{-1}$)')\n",
    "plt.title('WiFeS radial velocities')\n",
    "plt.legend()\n",
    "fig.show()"
   ]
  },
  {
   "cell_type": "code",
   "execution_count": 13,
   "metadata": {},
   "outputs": [
    {
     "data": {
      "application/vnd.jupyter.widget-view+json": {
       "model_id": "d1f8809599a94b909b85aa4ff3031e29",
       "version_major": 2,
       "version_minor": 0
      },
      "text/plain": [
       "RVCurve(children=(Output(), VBox(children=(FloatText(value=0.5, description='Period', step=1e-05), FloatText(v…"
      ]
     },
     "metadata": {},
     "output_type": "display_data"
    }
   ],
   "source": [
    "# Plot the interactive figure\n",
    "RVCurve(t1, rv1, e_rv1, t2, rv2, e_rv2)"
   ]
  },
  {
   "cell_type": "code",
   "execution_count": 14,
   "metadata": {},
   "outputs": [
    {
     "data": {
      "application/vnd.jupyter.widget-view+json": {
       "model_id": "c3bc04b47d374b13bdf5d6df3e2ca5b1",
       "version_major": 2,
       "version_minor": 0
      },
      "text/plain": [
       "MassRadiusDiagram(children=(Output(), VBox(children=(FloatText(value=1.0, description='$M_{1}$ (M$_{\\\\odot}$)'…"
      ]
     },
     "metadata": {},
     "output_type": "display_data"
    }
   ],
   "source": [
    "MassRadiusDiagram()"
   ]
  },
  {
   "cell_type": "code",
   "execution_count": null,
   "metadata": {},
   "outputs": [],
   "source": []
  }
 ],
 "metadata": {
  "kernelspec": {
   "display_name": "Python 3",
   "language": "python",
   "name": "python3"
  },
  "language_info": {
   "codemirror_mode": {
    "name": "ipython",
    "version": 3
   },
   "file_extension": ".py",
   "mimetype": "text/x-python",
   "name": "python",
   "nbconvert_exporter": "python",
   "pygments_lexer": "ipython3",
   "version": "3.7.2"
  }
 },
 "nbformat": 4,
 "nbformat_minor": 4
}
